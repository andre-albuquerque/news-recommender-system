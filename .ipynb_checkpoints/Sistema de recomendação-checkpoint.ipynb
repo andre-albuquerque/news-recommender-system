{
 "cells": [
  {
   "cell_type": "code",
   "execution_count": 1,
   "metadata": {},
   "outputs": [
    {
     "name": "stderr",
     "output_type": "stream",
     "text": [
      "C:\\Users\\Andre\\anaconda3\\lib\\site-packages\\gensim\\similarities\\__init__.py:15: UserWarning: The gensim.similarities.levenshtein submodule is disabled, because the optional Levenshtein package <https://pypi.org/project/python-Levenshtein/> is unavailable. Install Levenhstein (e.g. `pip install python-Levenshtein`) to suppress this warning.\n",
      "  warnings.warn(msg)\n",
      "C:\\Users\\Andre\\anaconda3\\lib\\site-packages\\fuzzywuzzy\\fuzz.py:11: UserWarning: Using slow pure-python SequenceMatcher. Install python-Levenshtein to remove this warning\n",
      "  warnings.warn('Using slow pure-python SequenceMatcher. Install python-Levenshtein to remove this warning')\n"
     ]
    }
   ],
   "source": [
    "import mysql.connector\n",
    "import pandas as pd\n",
    "from news_scraping import scraping\n",
    "from nltk.corpus import stopwords\n",
    "import gensim\n",
    "from sklearn.neighbors import NearestNeighbors\n",
    "import matplotlib.pyplot as plt\n",
    "import seaborn as sns\n",
    "import numpy as np\n",
    "from fuzzywuzzy import process\n",
    "from sklearn.feature_extraction.text import TfidfTransformer\n",
    "from sklearn.feature_extraction.text import CountVectorizer"
   ]
  },
  {
   "cell_type": "code",
   "execution_count": 2,
   "metadata": {
    "scrolled": true
   },
   "outputs": [
    {
     "name": "stdout",
     "output_type": "stream",
     "text": [
      "Iniciando scraping do site G1. Isto pode demorar um pouco...\n",
      "Buscando notícias e salvando em lista...\n",
      "Iniciando scraping do site Google News...\n",
      "Buscando notícias e salvando em lista...\n",
      "Iniciando scraping do site Estadão...\n",
      "Buscando notícias e salvando em lista...\n",
      "Importando listas para o banco de dados...\n",
      "Pronto.\n",
      "Processo finalizado!\n"
     ]
    }
   ],
   "source": [
    "scraping()"
   ]
  },
  {
   "cell_type": "code",
   "execution_count": 3,
   "metadata": {
    "scrolled": true
   },
   "outputs": [
    {
     "name": "stdout",
     "output_type": "stream",
     "text": [
      "<mysql.connector.connection_cext.CMySQLConnection object at 0x000001FBE3F6D370>\n"
     ]
    }
   ],
   "source": [
    "db = mysql.connector.connect(\n",
    "   host=\"database-1.cpqjjsrzpykc.us-east-2.rds.amazonaws.com\",\n",
    "   user=\"admin\",\n",
    "   passwd=\"Andre.2021\",\n",
    "   database=\"noticias\"\n",
    ")\n",
    "\n",
    "print(db)"
   ]
  },
  {
   "cell_type": "code",
   "execution_count": 4,
   "metadata": {},
   "outputs": [],
   "source": [
    "cursor = db.cursor()\n",
    "query = (\"SELECT * FROM noticias.news\")\n",
    "cursor.execute(query)\n",
    "records = cursor.fetchall()\n",
    "db.close()"
   ]
  },
  {
   "cell_type": "code",
   "execution_count": 31,
   "metadata": {},
   "outputs": [
    {
     "data": {
      "text/plain": [
       "(1,\n",
       " 'Governo usa foto de homem armado para celebrar o dia do agricultor',\n",
       " 'Tuíte no perfil oficial da Secretaria de Comunicação recebeu críticas nas redes sociais.',\n",
       " 'Há 3 horas',\n",
       " 'https://g1.globo.com/economia/agronegocios/noticia/2021/07/28/governo-bolsonaro-publica-foto-de-homem-armado-para-parabenizar-o-dia-do-agricultor.ghtml',\n",
       " 'https://s2.glbimg.com/3LCpgXP8fMzJRHUvuAzmhYzIZHc=/0x34:1025x611/540x304/smart/filters:max_age(3600)/https://i.s3.glbimg.com/v1/AUTH_59edd422c0c84a879bd37670ae4f538a/internal_photos/bs/2021/X/q/Dl2RiJSOm23AaDuVeaOg/secretaria-especial.jpg',\n",
       " 'G1')"
      ]
     },
     "execution_count": 31,
     "metadata": {},
     "output_type": "execute_result"
    }
   ],
   "source": [
    "records[0]"
   ]
  },
  {
   "cell_type": "code",
   "execution_count": 5,
   "metadata": {
    "scrolled": true
   },
   "outputs": [],
   "source": [
    "news_df = pd.DataFrame(records, columns=['id','titulo','subtitulo','hora','link','img', 'fonte'])\n",
    "news_df = news_df.drop(columns=['id'])"
   ]
  },
  {
   "cell_type": "code",
   "execution_count": 6,
   "metadata": {
    "scrolled": false
   },
   "outputs": [
    {
     "data": {
      "text/plain": [
       "0"
      ]
     },
     "execution_count": 6,
     "metadata": {},
     "output_type": "execute_result"
    }
   ],
   "source": [
    "news_df['titulo'].isnull().sum()"
   ]
  },
  {
   "cell_type": "code",
   "execution_count": 7,
   "metadata": {
    "scrolled": true
   },
   "outputs": [
    {
     "data": {
      "text/plain": [
       "(140, 6)"
      ]
     },
     "execution_count": 7,
     "metadata": {},
     "output_type": "execute_result"
    }
   ],
   "source": [
    "news_df.shape"
   ]
  },
  {
   "cell_type": "code",
   "execution_count": 8,
   "metadata": {
    "scrolled": true
   },
   "outputs": [],
   "source": [
    "def process_texto(s):\n",
    "    \n",
    "    # seleciona apenas letras (lembrando que o texto está em português e as letras possuem acento)\n",
    "    texto_limpo = gensim.utils.simple_preprocess(s)\n",
    "    \n",
    "    # remove stopwords\n",
    "    sw = stopwords.words('portuguese')\n",
    "    sem_stopwords = [word for word in texto_limpo if word not in sw]\n",
    "    \n",
    "    return sem_stopwords"
   ]
  },
  {
   "cell_type": "code",
   "execution_count": 9,
   "metadata": {
    "scrolled": true
   },
   "outputs": [],
   "source": [
    "news_df['titulo_sw'] = news_df['titulo'].apply(lambda s: process_texto(s)).apply(lambda x: ' '.join(x))"
   ]
  },
  {
   "cell_type": "code",
   "execution_count": 10,
   "metadata": {
    "scrolled": false
   },
   "outputs": [
    {
     "data": {
      "text/html": [
       "<div>\n",
       "<style scoped>\n",
       "    .dataframe tbody tr th:only-of-type {\n",
       "        vertical-align: middle;\n",
       "    }\n",
       "\n",
       "    .dataframe tbody tr th {\n",
       "        vertical-align: top;\n",
       "    }\n",
       "\n",
       "    .dataframe thead th {\n",
       "        text-align: right;\n",
       "    }\n",
       "</style>\n",
       "<table border=\"1\" class=\"dataframe\">\n",
       "  <thead>\n",
       "    <tr style=\"text-align: right;\">\n",
       "      <th></th>\n",
       "      <th>titulo</th>\n",
       "      <th>subtitulo</th>\n",
       "      <th>hora</th>\n",
       "      <th>link</th>\n",
       "      <th>img</th>\n",
       "      <th>fonte</th>\n",
       "      <th>titulo_sw</th>\n",
       "    </tr>\n",
       "  </thead>\n",
       "  <tbody>\n",
       "    <tr>\n",
       "      <th>0</th>\n",
       "      <td>Governo usa foto de homem armado para celebrar...</td>\n",
       "      <td>Tuíte no perfil oficial da Secretaria de Comun...</td>\n",
       "      <td>Há 3 horas</td>\n",
       "      <td>https://g1.globo.com/economia/agronegocios/not...</td>\n",
       "      <td>https://s2.glbimg.com/3LCpgXP8fMzJRHUvuAzmhYzI...</td>\n",
       "      <td>G1</td>\n",
       "      <td>governo usa foto homem armado celebrar dia agr...</td>\n",
       "    </tr>\n",
       "    <tr>\n",
       "      <th>1</th>\n",
       "      <td>Concurso do Banco do Brasil prorroga prazo de ...</td>\n",
       "      <td>Processo seletivo oferece 4.480 vagas com salá...</td>\n",
       "      <td>Há 4 horas</td>\n",
       "      <td>https://g1.globo.com/economia/concursos-e-empr...</td>\n",
       "      <td>https://s2.glbimg.com/Ud-LAzmADnNTydrWj1K-Ah7A...</td>\n",
       "      <td>G1</td>\n",
       "      <td>concurso banco brasil prorroga prazo inscrição</td>\n",
       "    </tr>\n",
       "  </tbody>\n",
       "</table>\n",
       "</div>"
      ],
      "text/plain": [
       "                                              titulo  \\\n",
       "0  Governo usa foto de homem armado para celebrar...   \n",
       "1  Concurso do Banco do Brasil prorroga prazo de ...   \n",
       "\n",
       "                                           subtitulo        hora  \\\n",
       "0  Tuíte no perfil oficial da Secretaria de Comun...  Há 3 horas   \n",
       "1  Processo seletivo oferece 4.480 vagas com salá...  Há 4 horas   \n",
       "\n",
       "                                                link  \\\n",
       "0  https://g1.globo.com/economia/agronegocios/not...   \n",
       "1  https://g1.globo.com/economia/concursos-e-empr...   \n",
       "\n",
       "                                                 img fonte  \\\n",
       "0  https://s2.glbimg.com/3LCpgXP8fMzJRHUvuAzmhYzI...    G1   \n",
       "1  https://s2.glbimg.com/Ud-LAzmADnNTydrWj1K-Ah7A...    G1   \n",
       "\n",
       "                                           titulo_sw  \n",
       "0  governo usa foto homem armado celebrar dia agr...  \n",
       "1     concurso banco brasil prorroga prazo inscrição  "
      ]
     },
     "execution_count": 10,
     "metadata": {},
     "output_type": "execute_result"
    }
   ],
   "source": [
    "news_df.head(2)"
   ]
  },
  {
   "cell_type": "code",
   "execution_count": 11,
   "metadata": {
    "scrolled": false
   },
   "outputs": [],
   "source": [
    "# Bag-of-Words (bow) vectorises the data\n",
    "# transforming tokens into useful features\n",
    "     \n",
    "bow_transformer = CountVectorizer().fit_transform(news_df['titulo_sw'])\n",
    "\n",
    "news_tfidf = TfidfTransformer().fit_transform(bow_transformer)\n"
   ]
  },
  {
   "cell_type": "code",
   "execution_count": 12,
   "metadata": {
    "scrolled": false
   },
   "outputs": [],
   "source": [
    "nn = NearestNeighbors(metric='cosine', n_neighbors=6)"
   ]
  },
  {
   "cell_type": "code",
   "execution_count": 238,
   "metadata": {},
   "outputs": [],
   "source": [
    "# Recomendador de notícias\n",
    "\n",
    "lista = []\n",
    "def recommender(noticia):\n",
    "    lista.clear()\n",
    "    nn.fit(news_tfidf)\n",
    "    idx=process.extractOne(noticia, news_df['titulo'])[2]\n",
    "    print('Notícias recomendadas: ')\n",
    "    distances, indices=nn.kneighbors(news_tfidf[idx], n_neighbors=6)\n",
    "    n=0\n",
    "    for i in indices:\n",
    "        lista.append(i)\n",
    "        \n",
    "    for n in lista[0][1:]:\n",
    "        print(f'{news_df.iloc[n]} \\n\\n')\n",
    "        "
   ]
  },
  {
   "cell_type": "code",
   "execution_count": 240,
   "metadata": {
    "scrolled": false
   },
   "outputs": [
    {
     "name": "stdout",
     "output_type": "stream",
     "text": [
      "Notícias recomendadas: \n",
      "titulo       Estátua de Borba Gato em São Paulo causa polêm...\n",
      "subtitulo                                                     \n",
      "hora                                             6 horas atrás\n",
      "link         news.google.com/articles/CBMie2h0dHBzOi8vd3d3M...\n",
      "img          https://lh6.googleusercontent.com/proxy/WWih18...\n",
      "fonte                                         Folha de S.Paulo\n",
      "titulo_sw    estátua borba gato paulo causa polêmica desde ...\n",
      "Name: 60, dtype: object \n",
      "\n",
      "\n",
      "titulo       VÍDEO: veja o golpe de Maria Portela que não f...\n",
      "subtitulo                                                     \n",
      "hora                                                Há 6 horas\n",
      "link         https://g1.globo.com/rs/rio-grande-do-sul/vide...\n",
      "img          https://s2.glbimg.com/LZTQhCZ9qWQAkJ-CDFLVUQ6c...\n",
      "fonte                                                       G1\n",
      "titulo_sw             vídeo veja golpe maria portela computado\n",
      "Name: 8, dtype: object \n",
      "\n",
      "\n",
      "titulo       Veja dos gols da vitória do Brasil contra a Ar...\n",
      "subtitulo                                                     \n",
      "hora                                              Há 3 minutos\n",
      "link         https://g1.globo.com/mundo/video/video-veja-os...\n",
      "img                                                           \n",
      "fonte                                                       G1\n",
      "titulo_sw       veja gols vitória brasil contra arábia saudita\n",
      "Name: 11, dtype: object \n",
      "\n",
      "\n",
      "titulo       Veja o que você perdeu na noite e madrugada no...\n",
      "subtitulo                                                     \n",
      "hora                                             5 horas atrás\n",
      "link         news.google.com/articles/CBMibmh0dHBzOi8vd3d3L...\n",
      "img          https://lh6.googleusercontent.com/proxy/-vP1bu...\n",
      "fonte                                                   LANCE!\n",
      "titulo_sw    veja perdeu noite madrugada jogos olímpicos tó...\n",
      "Name: 87, dtype: object \n",
      "\n",
      "\n",
      "titulo        Olimpíada tem recorde de atletas LGBT: veja q...\n",
      "subtitulo    Levantamento aponta ao menos 169 atletas em 32...\n",
      "hora                              28 de julho de 2021 | 13h49 \n",
      "link         https://esportes.estadao.com.br/noticias/jogos...\n",
      "img          https://img.estadao.com.br/fotos/crop/top/350x...\n",
      "fonte                                                  Estadão\n",
      "titulo_sw    olimpíada recorde atletas lgbt veja homens min...\n",
      "Name: 124, dtype: object \n",
      "\n",
      "\n"
     ]
    }
   ],
   "source": [
    "recommender(news_df['titulo'][43])"
   ]
  }
 ],
 "metadata": {
  "kernelspec": {
   "display_name": "Python 3",
   "language": "python",
   "name": "python3"
  },
  "language_info": {
   "codemirror_mode": {
    "name": "ipython",
    "version": 3
   },
   "file_extension": ".py",
   "mimetype": "text/x-python",
   "name": "python",
   "nbconvert_exporter": "python",
   "pygments_lexer": "ipython3",
   "version": "3.8.5"
  }
 },
 "nbformat": 4,
 "nbformat_minor": 4
}
