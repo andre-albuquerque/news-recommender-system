{
 "cells": [
  {
   "cell_type": "code",
   "execution_count": 1,
   "metadata": {},
   "outputs": [],
   "source": [
    "import mysql.connector\n",
    "import pandas as pd"
   ]
  },
  {
   "cell_type": "code",
   "execution_count": 2,
   "metadata": {},
   "outputs": [
    {
     "name": "stdout",
     "output_type": "stream",
     "text": [
      "<mysql.connector.connection_cext.CMySQLConnection object at 0x000001BEAD22F850>\n"
     ]
    }
   ],
   "source": [
    "db = mysql.connector.connect(\n",
    "   host=\"database-1.cpqjjsrzpykc.us-east-2.rds.amazonaws.com\",\n",
    "   user=\"admin\",\n",
    "   passwd=\"Andre.2021\",\n",
    "   database=\"noticias\"\n",
    ")\n",
    "\n",
    "print(db)"
   ]
  },
  {
   "cell_type": "code",
   "execution_count": 3,
   "metadata": {},
   "outputs": [],
   "source": [
    "cursor = db.cursor()"
   ]
  },
  {
   "cell_type": "code",
   "execution_count": 4,
   "metadata": {},
   "outputs": [],
   "source": [
    "query = (\"SELECT * FROM noticias.news\")"
   ]
  },
  {
   "cell_type": "code",
   "execution_count": 5,
   "metadata": {
    "scrolled": true
   },
   "outputs": [],
   "source": [
    "cursor.execute(query)"
   ]
  },
  {
   "cell_type": "code",
   "execution_count": 6,
   "metadata": {},
   "outputs": [],
   "source": [
    "records = cursor.fetchall()"
   ]
  },
  {
   "cell_type": "code",
   "execution_count": 9,
   "metadata": {
    "scrolled": true
   },
   "outputs": [],
   "source": [
    "news_df = pd.DataFrame(records, columns=['id','titulo','subtitulo','hora','link','img', 'fonte'])"
   ]
  },
  {
   "cell_type": "code",
   "execution_count": 11,
   "metadata": {},
   "outputs": [],
   "source": [
    "news_df = news_df.set_index('id')"
   ]
  },
  {
   "cell_type": "code",
   "execution_count": 12,
   "metadata": {},
   "outputs": [
    {
     "data": {
      "text/html": [
       "<div>\n",
       "<style scoped>\n",
       "    .dataframe tbody tr th:only-of-type {\n",
       "        vertical-align: middle;\n",
       "    }\n",
       "\n",
       "    .dataframe tbody tr th {\n",
       "        vertical-align: top;\n",
       "    }\n",
       "\n",
       "    .dataframe thead th {\n",
       "        text-align: right;\n",
       "    }\n",
       "</style>\n",
       "<table border=\"1\" class=\"dataframe\">\n",
       "  <thead>\n",
       "    <tr style=\"text-align: right;\">\n",
       "      <th></th>\n",
       "      <th>titulo</th>\n",
       "      <th>subtitulo</th>\n",
       "      <th>hora</th>\n",
       "      <th>link</th>\n",
       "      <th>img</th>\n",
       "      <th>fonte</th>\n",
       "    </tr>\n",
       "    <tr>\n",
       "      <th>id</th>\n",
       "      <th></th>\n",
       "      <th></th>\n",
       "      <th></th>\n",
       "      <th></th>\n",
       "      <th></th>\n",
       "      <th></th>\n",
       "    </tr>\n",
       "  </thead>\n",
       "  <tbody>\n",
       "    <tr>\n",
       "      <th>1</th>\n",
       "      <td>Reveja os melhores momentos da abertura das Ol...</td>\n",
       "      <td></td>\n",
       "      <td>Há 33 minutos</td>\n",
       "      <td>https://g1.globo.com/jornal-nacional/noticia/2...</td>\n",
       "      <td></td>\n",
       "      <td>G1</td>\n",
       "    </tr>\n",
       "    <tr>\n",
       "      <th>2</th>\n",
       "      <td>Pacientes que venceram Covid morrem de infecçã...</td>\n",
       "      <td></td>\n",
       "      <td>Há 7 horas</td>\n",
       "      <td>https://g1.globo.com/jornal-hoje/noticia/2021/...</td>\n",
       "      <td>https://s2.glbimg.com/N40Jvvl-Ll9m6Vt5MILt0SSb...</td>\n",
       "      <td>G1</td>\n",
       "    </tr>\n",
       "    <tr>\n",
       "      <th>3</th>\n",
       "      <td>Fabricante da Covaxin nega documentos enviados...</td>\n",
       "      <td>Bharat Biotech rompeu contrato com a Precisa, ...</td>\n",
       "      <td>Há 9 horas</td>\n",
       "      <td>https://g1.globo.com/politica/cpi-da-covid/not...</td>\n",
       "      <td></td>\n",
       "      <td>G1</td>\n",
       "    </tr>\n",
       "    <tr>\n",
       "      <th>4</th>\n",
       "      <td>Procuradoria investiga suspeita de propina de ...</td>\n",
       "      <td>Alvo principal é Roberto Dias, ex-diretor do M...</td>\n",
       "      <td>Há 6 horas</td>\n",
       "      <td>https://g1.globo.com/df/distrito-federal/notic...</td>\n",
       "      <td>https://s2.glbimg.com/wohq3cqqqgNjIibIvODEDPaz...</td>\n",
       "      <td>G1</td>\n",
       "    </tr>\n",
       "    <tr>\n",
       "      <th>5</th>\n",
       "      <td>USP expulsa 6 alunos da graduação por fraude e...</td>\n",
       "      <td></td>\n",
       "      <td>Há 3 horas</td>\n",
       "      <td>https://g1.globo.com/sp/sao-paulo/noticia/2021...</td>\n",
       "      <td>https://s2.glbimg.com/hZ37pfmhb8Mnp9d21syoXiCV...</td>\n",
       "      <td>G1</td>\n",
       "    </tr>\n",
       "  </tbody>\n",
       "</table>\n",
       "</div>"
      ],
      "text/plain": [
       "                                               titulo  \\\n",
       "id                                                      \n",
       "1   Reveja os melhores momentos da abertura das Ol...   \n",
       "2   Pacientes que venceram Covid morrem de infecçã...   \n",
       "3   Fabricante da Covaxin nega documentos enviados...   \n",
       "4   Procuradoria investiga suspeita de propina de ...   \n",
       "5   USP expulsa 6 alunos da graduação por fraude e...   \n",
       "\n",
       "                                            subtitulo           hora  \\\n",
       "id                                                                     \n",
       "1                                                      Há 33 minutos   \n",
       "2                                                         Há 7 horas   \n",
       "3   Bharat Biotech rompeu contrato com a Precisa, ...     Há 9 horas   \n",
       "4   Alvo principal é Roberto Dias, ex-diretor do M...     Há 6 horas   \n",
       "5                                                         Há 3 horas   \n",
       "\n",
       "                                                 link  \\\n",
       "id                                                      \n",
       "1   https://g1.globo.com/jornal-nacional/noticia/2...   \n",
       "2   https://g1.globo.com/jornal-hoje/noticia/2021/...   \n",
       "3   https://g1.globo.com/politica/cpi-da-covid/not...   \n",
       "4   https://g1.globo.com/df/distrito-federal/notic...   \n",
       "5   https://g1.globo.com/sp/sao-paulo/noticia/2021...   \n",
       "\n",
       "                                                  img fonte  \n",
       "id                                                           \n",
       "1                                                        G1  \n",
       "2   https://s2.glbimg.com/N40Jvvl-Ll9m6Vt5MILt0SSb...    G1  \n",
       "3                                                        G1  \n",
       "4   https://s2.glbimg.com/wohq3cqqqgNjIibIvODEDPaz...    G1  \n",
       "5   https://s2.glbimg.com/hZ37pfmhb8Mnp9d21syoXiCV...    G1  "
      ]
     },
     "execution_count": 12,
     "metadata": {},
     "output_type": "execute_result"
    }
   ],
   "source": [
    "news_df.head()"
   ]
  }
 ],
 "metadata": {
  "kernelspec": {
   "display_name": "Python 3",
   "language": "python",
   "name": "python3"
  },
  "language_info": {
   "codemirror_mode": {
    "name": "ipython",
    "version": 3
   },
   "file_extension": ".py",
   "mimetype": "text/x-python",
   "name": "python",
   "nbconvert_exporter": "python",
   "pygments_lexer": "ipython3",
   "version": "3.8.5"
  }
 },
 "nbformat": 4,
 "nbformat_minor": 4
}
