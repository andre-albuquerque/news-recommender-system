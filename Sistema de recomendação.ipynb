{
 "cells": [
  {
   "cell_type": "code",
   "execution_count": 14,
   "metadata": {},
   "outputs": [],
   "source": [
    "import mysql.connector\n",
    "import pandas as pd\n",
    "from news_scraping import scraping"
   ]
  },
  {
   "cell_type": "code",
   "execution_count": null,
   "metadata": {},
   "outputs": [
    {
     "name": "stdout",
     "output_type": "stream",
     "text": [
      "Iniciando scraping do site G1. Isto pode demorar um pouco...\n",
      "Buscando notícias e salvando em lista...\n",
      "Iniciando scraping do site Google News...\n",
      "Buscando notícias e salvando em lista...\n",
      "Iniciando scraping do site Estadão...\n",
      "Buscando notícias e salvando em lista...\n",
      "Importando listas para o banco de dados...\n"
     ]
    }
   ],
   "source": [
    "scraping()"
   ]
  },
  {
   "cell_type": "code",
   "execution_count": null,
   "metadata": {},
   "outputs": [],
   "source": [
    "db = mysql.connector.connect(\n",
    "   host=\"database-1.cpqjjsrzpykc.us-east-2.rds.amazonaws.com\",\n",
    "   user=\"admin\",\n",
    "   passwd=\"Andre.2021\",\n",
    "   database=\"noticias\"\n",
    ")\n",
    "\n",
    "print(db)"
   ]
  },
  {
   "cell_type": "code",
   "execution_count": 3,
   "metadata": {},
   "outputs": [],
   "source": [
    "cursor = db.cursor()"
   ]
  },
  {
   "cell_type": "code",
   "execution_count": 4,
   "metadata": {},
   "outputs": [],
   "source": [
    "query = (\"SELECT * FROM noticias.news\")"
   ]
  },
  {
   "cell_type": "code",
   "execution_count": 5,
   "metadata": {
    "scrolled": true
   },
   "outputs": [],
   "source": [
    "cursor.execute(query)"
   ]
  },
  {
   "cell_type": "code",
   "execution_count": 6,
   "metadata": {},
   "outputs": [],
   "source": [
    "records = cursor.fetchall()"
   ]
  },
  {
   "cell_type": "code",
   "execution_count": 9,
   "metadata": {
    "scrolled": true
   },
   "outputs": [],
   "source": [
    "news_df = pd.DataFrame(records, columns=['id','titulo','subtitulo','hora','link','img', 'fonte'])"
   ]
  },
  {
   "cell_type": "code",
   "execution_count": 11,
   "metadata": {},
   "outputs": [],
   "source": [
    "news_df = news_df.set_index('id')"
   ]
  },
  {
   "cell_type": "code",
   "execution_count": 13,
   "metadata": {},
   "outputs": [
    {
     "data": {
      "text/html": [
       "<div>\n",
       "<style scoped>\n",
       "    .dataframe tbody tr th:only-of-type {\n",
       "        vertical-align: middle;\n",
       "    }\n",
       "\n",
       "    .dataframe tbody tr th {\n",
       "        vertical-align: top;\n",
       "    }\n",
       "\n",
       "    .dataframe thead th {\n",
       "        text-align: right;\n",
       "    }\n",
       "</style>\n",
       "<table border=\"1\" class=\"dataframe\">\n",
       "  <thead>\n",
       "    <tr style=\"text-align: right;\">\n",
       "      <th></th>\n",
       "      <th>titulo</th>\n",
       "      <th>subtitulo</th>\n",
       "      <th>hora</th>\n",
       "      <th>link</th>\n",
       "      <th>img</th>\n",
       "      <th>fonte</th>\n",
       "    </tr>\n",
       "    <tr>\n",
       "      <th>id</th>\n",
       "      <th></th>\n",
       "      <th></th>\n",
       "      <th></th>\n",
       "      <th></th>\n",
       "      <th></th>\n",
       "      <th></th>\n",
       "    </tr>\n",
       "  </thead>\n",
       "  <tbody>\n",
       "    <tr>\n",
       "      <th>133</th>\n",
       "      <td>Órgão do Ministério do Meio Ambiente, ICMBio ...</td>\n",
       "      <td>Instituto cuida de unidades de conservação; in...</td>\n",
       "      <td>23 de julho de 2021 | 19h54</td>\n",
       "      <td>https://sustentabilidade.estadao.com.br/notici...</td>\n",
       "      <td>https://img.estadao.com.br/fotos/crop/top/350x...</td>\n",
       "      <td>Estadão</td>\n",
       "    </tr>\n",
       "    <tr>\n",
       "      <th>134</th>\n",
       "      <td>Renato Augusto faz treino físico forte para e...</td>\n",
       "      <td>Timão joga contra o Cuiabá na segunda-feira e ...</td>\n",
       "      <td>23 de julho de 2021 | 19h44</td>\n",
       "      <td>https://esportes.estadao.com.br/noticias/futeb...</td>\n",
       "      <td>https://img.estadao.com.br/fotos/crop/top/350x...</td>\n",
       "      <td>Estadão</td>\n",
       "    </tr>\n",
       "    <tr>\n",
       "      <th>135</th>\n",
       "      <td>Especialistas defendem volta do horário de ve...</td>\n",
       "      <td>Medida, extinta por Bolsonaro há dois anos, é ...</td>\n",
       "      <td>23 de julho de 2021 | 19h43</td>\n",
       "      <td>https://economia.estadao.com.br/noticias/geral...</td>\n",
       "      <td>https://img.estadao.com.br/fotos/crop/top/350x...</td>\n",
       "      <td>Estadão</td>\n",
       "    </tr>\n",
       "    <tr>\n",
       "      <th>136</th>\n",
       "      <td>Gráficos no Radar: Ibovespa encerra a semana ...</td>\n",
       "      <td></td>\n",
       "      <td>23 de julho de 2021 | 19h28</td>\n",
       "      <td>https://einvestidor.estadao.com.br/videos/graf...</td>\n",
       "      <td></td>\n",
       "      <td>Estadão</td>\n",
       "    </tr>\n",
       "    <tr>\n",
       "      <th>137</th>\n",
       "      <td>Presidente do COI, Thomas Bach diz que Olimpí...</td>\n",
       "      <td>'Este sentimento de união, esta é a luz no fim...</td>\n",
       "      <td>23 de julho de 2021 | 19h27</td>\n",
       "      <td>https://esportes.estadao.com.br/noticias/jogos...</td>\n",
       "      <td>https://img.estadao.com.br/fotos/crop/top/350x...</td>\n",
       "      <td>Estadão</td>\n",
       "    </tr>\n",
       "  </tbody>\n",
       "</table>\n",
       "</div>"
      ],
      "text/plain": [
       "                                                titulo  \\\n",
       "id                                                       \n",
       "133   Órgão do Ministério do Meio Ambiente, ICMBio ...   \n",
       "134   Renato Augusto faz treino físico forte para e...   \n",
       "135   Especialistas defendem volta do horário de ve...   \n",
       "136   Gráficos no Radar: Ibovespa encerra a semana ...   \n",
       "137   Presidente do COI, Thomas Bach diz que Olimpí...   \n",
       "\n",
       "                                             subtitulo  \\\n",
       "id                                                       \n",
       "133  Instituto cuida de unidades de conservação; in...   \n",
       "134  Timão joga contra o Cuiabá na segunda-feira e ...   \n",
       "135  Medida, extinta por Bolsonaro há dois anos, é ...   \n",
       "136                                                      \n",
       "137  'Este sentimento de união, esta é a luz no fim...   \n",
       "\n",
       "                              hora  \\\n",
       "id                                   \n",
       "133   23 de julho de 2021 | 19h54    \n",
       "134   23 de julho de 2021 | 19h44    \n",
       "135   23 de julho de 2021 | 19h43    \n",
       "136   23 de julho de 2021 | 19h28    \n",
       "137   23 de julho de 2021 | 19h27    \n",
       "\n",
       "                                                  link  \\\n",
       "id                                                       \n",
       "133  https://sustentabilidade.estadao.com.br/notici...   \n",
       "134  https://esportes.estadao.com.br/noticias/futeb...   \n",
       "135  https://economia.estadao.com.br/noticias/geral...   \n",
       "136  https://einvestidor.estadao.com.br/videos/graf...   \n",
       "137  https://esportes.estadao.com.br/noticias/jogos...   \n",
       "\n",
       "                                                   img    fonte  \n",
       "id                                                               \n",
       "133  https://img.estadao.com.br/fotos/crop/top/350x...  Estadão  \n",
       "134  https://img.estadao.com.br/fotos/crop/top/350x...  Estadão  \n",
       "135  https://img.estadao.com.br/fotos/crop/top/350x...  Estadão  \n",
       "136                                                     Estadão  \n",
       "137  https://img.estadao.com.br/fotos/crop/top/350x...  Estadão  "
      ]
     },
     "execution_count": 13,
     "metadata": {},
     "output_type": "execute_result"
    }
   ],
   "source": [
    "news_df.tail()"
   ]
  }
 ],
 "metadata": {
  "kernelspec": {
   "display_name": "Python 3",
   "language": "python",
   "name": "python3"
  },
  "language_info": {
   "codemirror_mode": {
    "name": "ipython",
    "version": 3
   },
   "file_extension": ".py",
   "mimetype": "text/x-python",
   "name": "python",
   "nbconvert_exporter": "python",
   "pygments_lexer": "ipython3",
   "version": "3.8.5"
  }
 },
 "nbformat": 4,
 "nbformat_minor": 4
}
