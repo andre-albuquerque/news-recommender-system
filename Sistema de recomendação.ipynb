{
 "cells": [
  {
   "cell_type": "code",
   "execution_count": 27,
   "metadata": {},
   "outputs": [],
   "source": [
    "import mysql.connector\n",
    "import pandas as pd\n",
    "from news_scraping import scraping\n",
    "from nltk.corpus import stopwords\n",
    "import gensim\n",
    "from sklearn.neighbors import NearestNeighbors\n",
    "import matplotlib.pyplot as plt\n",
    "import seaborn as sns\n",
    "import numpy as np\n",
    "from fuzzywuzzy import process\n",
    "from sklearn.feature_extraction.text import TfidfTransformer\n",
    "from sklearn.feature_extraction.text import CountVectorizer"
   ]
  },
  {
   "cell_type": "code",
   "execution_count": null,
   "metadata": {
    "scrolled": false
   },
   "outputs": [
    {
     "name": "stdout",
     "output_type": "stream",
     "text": [
      "Iniciando scraping do site G1. Isto pode demorar um pouco...\n",
      "Buscando notícias e salvando em lista...\n",
      "Iniciando scraping do site Google News...\n",
      "Buscando notícias e salvando em lista...\n",
      "Iniciando scraping do site Estadão...\n",
      "Buscando notícias e salvando em lista...\n",
      "Importando listas para o banco de dados...\n"
     ]
    }
   ],
   "source": [
    "scraping()"
   ]
  },
  {
   "cell_type": "code",
   "execution_count": 28,
   "metadata": {
    "scrolled": true
   },
   "outputs": [
    {
     "name": "stdout",
     "output_type": "stream",
     "text": [
      "<mysql.connector.connection_cext.CMySQLConnection object at 0x000001F4BEEA5160>\n"
     ]
    }
   ],
   "source": [
    "db = mysql.connector.connect(\n",
    "   host=\"database-1.cpqjjsrzpykc.us-east-2.rds.amazonaws.com\",\n",
    "   user=\"admin\",\n",
    "   passwd=\"Andre.2021\",\n",
    "   database=\"noticias\"\n",
    ")\n",
    "\n",
    "print(db)"
   ]
  },
  {
   "cell_type": "code",
   "execution_count": 29,
   "metadata": {},
   "outputs": [],
   "source": [
    "cursor = db.cursor()\n",
    "query = (\"SELECT * FROM noticias.news\")\n",
    "cursor.execute(query)\n",
    "records = cursor.fetchall()\n",
    "db.close()"
   ]
  },
  {
   "cell_type": "code",
   "execution_count": 30,
   "metadata": {},
   "outputs": [
    {
     "data": {
      "text/plain": [
       "(1,\n",
       " 'Alison e Álvaro perdem, e Brasil fica sem medalha no vôlei de praia pela 1ª vez',\n",
       " '',\n",
       " 'Há 2 horas',\n",
       " 'https://ge.globo.com/olimpiadas/noticia/alison-e-alvaro-perdem-nas-quartas-de-final-do-volei-de-praia.ghtml',\n",
       " 'https://s2.glbimg.com/x85VfdtXMrfxpMDqclxBVoRhIKg=/0x108:3793x2242/540x304/smart/filters:max_age(3600)/https://i.s3.glbimg.com/v1/AUTH_59edd422c0c84a879bd37670ae4f538a/internal_photos/bs/2021/2/Q/B6wpyASrAyokcjZHpGMQ/2021-08-04t012627z-664316840-sp1eh840401n3-rtrmadp-3-olympics-2020-vbv-m-team2-qfnl-000200.jpg',\n",
       " 'G1')"
      ]
     },
     "execution_count": 30,
     "metadata": {},
     "output_type": "execute_result"
    }
   ],
   "source": [
    "records[0]"
   ]
  },
  {
   "cell_type": "code",
   "execution_count": 31,
   "metadata": {
    "scrolled": true
   },
   "outputs": [],
   "source": [
    "news_df = pd.DataFrame(records, columns=['id','titulo','subtitulo','hora','link','img', 'fonte'])\n",
    "news_df = news_df.drop(columns=['id'])"
   ]
  },
  {
   "cell_type": "code",
   "execution_count": 32,
   "metadata": {
    "scrolled": false
   },
   "outputs": [
    {
     "data": {
      "text/plain": [
       "0"
      ]
     },
     "execution_count": 32,
     "metadata": {},
     "output_type": "execute_result"
    }
   ],
   "source": [
    "news_df['titulo'].isnull().sum()"
   ]
  },
  {
   "cell_type": "code",
   "execution_count": 33,
   "metadata": {
    "scrolled": true
   },
   "outputs": [
    {
     "data": {
      "text/plain": [
       "(114, 6)"
      ]
     },
     "execution_count": 33,
     "metadata": {},
     "output_type": "execute_result"
    }
   ],
   "source": [
    "news_df.shape"
   ]
  },
  {
   "cell_type": "code",
   "execution_count": 34,
   "metadata": {
    "scrolled": true
   },
   "outputs": [],
   "source": [
    "def process_texto(s):\n",
    "    \n",
    "    # seleciona apenas letras (lembrando que o texto está em português e as letras possuem acento)\n",
    "    texto_limpo = gensim.utils.simple_preprocess(s)\n",
    "    \n",
    "    # remove stopwords\n",
    "    sw = stopwords.words('portuguese')\n",
    "    sem_stopwords = [word for word in texto_limpo if word not in sw]\n",
    "    \n",
    "    return sem_stopwords"
   ]
  },
  {
   "cell_type": "code",
   "execution_count": 35,
   "metadata": {
    "scrolled": true
   },
   "outputs": [],
   "source": [
    "news_df['titulo_sw'] = news_df['titulo'].apply(lambda s: process_texto(s)).apply(lambda x: ' '.join(x))"
   ]
  },
  {
   "cell_type": "code",
   "execution_count": 36,
   "metadata": {
    "scrolled": false
   },
   "outputs": [
    {
     "data": {
      "text/html": [
       "<div>\n",
       "<style scoped>\n",
       "    .dataframe tbody tr th:only-of-type {\n",
       "        vertical-align: middle;\n",
       "    }\n",
       "\n",
       "    .dataframe tbody tr th {\n",
       "        vertical-align: top;\n",
       "    }\n",
       "\n",
       "    .dataframe thead th {\n",
       "        text-align: right;\n",
       "    }\n",
       "</style>\n",
       "<table border=\"1\" class=\"dataframe\">\n",
       "  <thead>\n",
       "    <tr style=\"text-align: right;\">\n",
       "      <th></th>\n",
       "      <th>titulo</th>\n",
       "      <th>subtitulo</th>\n",
       "      <th>hora</th>\n",
       "      <th>link</th>\n",
       "      <th>img</th>\n",
       "      <th>fonte</th>\n",
       "      <th>titulo_sw</th>\n",
       "    </tr>\n",
       "  </thead>\n",
       "  <tbody>\n",
       "    <tr>\n",
       "      <th>0</th>\n",
       "      <td>Alison e Álvaro perdem, e Brasil fica sem meda...</td>\n",
       "      <td></td>\n",
       "      <td>Há 2 horas</td>\n",
       "      <td>https://ge.globo.com/olimpiadas/noticia/alison...</td>\n",
       "      <td>https://s2.glbimg.com/x85VfdtXMrfxpMDqclxBVoRh...</td>\n",
       "      <td>G1</td>\n",
       "      <td>alison álvaro perdem brasil fica medalha vôlei...</td>\n",
       "    </tr>\n",
       "    <tr>\n",
       "      <th>1</th>\n",
       "      <td>ASSISTA: Dora Varella e Yndiara Asp avançam no...</td>\n",
       "      <td></td>\n",
       "      <td>Há 1 hora</td>\n",
       "      <td>https://ge.globo.com/olimpiadas/ao-vivo/olimpi...</td>\n",
       "      <td>https://s2.glbimg.com/XqpZlXZP1s_AlVY6QKKEAwDN...</td>\n",
       "      <td>G1</td>\n",
       "      <td>assista dora varella yndiara asp avançam skate...</td>\n",
       "    </tr>\n",
       "  </tbody>\n",
       "</table>\n",
       "</div>"
      ],
      "text/plain": [
       "                                              titulo subtitulo        hora  \\\n",
       "0  Alison e Álvaro perdem, e Brasil fica sem meda...            Há 2 horas   \n",
       "1  ASSISTA: Dora Varella e Yndiara Asp avançam no...             Há 1 hora   \n",
       "\n",
       "                                                link  \\\n",
       "0  https://ge.globo.com/olimpiadas/noticia/alison...   \n",
       "1  https://ge.globo.com/olimpiadas/ao-vivo/olimpi...   \n",
       "\n",
       "                                                 img fonte  \\\n",
       "0  https://s2.glbimg.com/x85VfdtXMrfxpMDqclxBVoRh...    G1   \n",
       "1  https://s2.glbimg.com/XqpZlXZP1s_AlVY6QKKEAwDN...    G1   \n",
       "\n",
       "                                           titulo_sw  \n",
       "0  alison álvaro perdem brasil fica medalha vôlei...  \n",
       "1  assista dora varella yndiara asp avançam skate...  "
      ]
     },
     "execution_count": 36,
     "metadata": {},
     "output_type": "execute_result"
    }
   ],
   "source": [
    "news_df.head(2)"
   ]
  },
  {
   "cell_type": "code",
   "execution_count": 37,
   "metadata": {
    "scrolled": false
   },
   "outputs": [],
   "source": [
    "# Bag-of-Words (bow) vectorises the data\n",
    "# transforming tokens into useful features\n",
    "     \n",
    "bow_transformer = CountVectorizer().fit_transform(news_df['titulo_sw'])\n",
    "\n",
    "news_tfidf = TfidfTransformer().fit_transform(bow_transformer)\n"
   ]
  },
  {
   "cell_type": "code",
   "execution_count": 38,
   "metadata": {
    "scrolled": false
   },
   "outputs": [],
   "source": [
    "nn = NearestNeighbors(metric='cosine', n_neighbors=4)"
   ]
  },
  {
   "cell_type": "code",
   "execution_count": 39,
   "metadata": {},
   "outputs": [],
   "source": [
    "# Recomendador de notícias\n",
    "\n",
    "lista = []\n",
    "def recommender(noticia):\n",
    "    lista.clear()\n",
    "    nn.fit(news_tfidf)\n",
    "    idx=process.extractOne(noticia, news_df['titulo'])[2]\n",
    "    print('Notícias recomendadas: ')\n",
    "    distances, indices=nn.kneighbors(news_tfidf[idx], n_neighbors=4)\n",
    "    n=0\n",
    "    for i in indices:\n",
    "        lista.append(i)\n",
    "        \n",
    "    for n in lista[0][1:]:\n",
    "        print(f'{news_df.iloc[n]} \\n\\n')\n",
    "        "
   ]
  },
  {
   "cell_type": "code",
   "execution_count": 40,
   "metadata": {
    "scrolled": false
   },
   "outputs": [
    {
     "name": "stdout",
     "output_type": "stream",
     "text": [
      "Notícias recomendadas: \n",
      "titulo       Olimpíada de Tóquio 2021: Brasil retoma disput...\n",
      "subtitulo                                                     \n",
      "hora                                             6 horas atrás\n",
      "link         news.google.com/articles/CBMiLWh0dHBzOi8vd3d3L...\n",
      "img          https://lh3.googleusercontent.com/proxy/dYbBAD...\n",
      "fonte                                               BBC Brasil\n",
      "titulo_sw    olimpíada tóquio brasil retoma disputas skate ...\n",
      "Name: 99, dtype: object \n",
      "\n",
      "\n",
      "titulo       Medalhista de novo: assista ao salto que deu o...\n",
      "subtitulo                                                     \n",
      "hora                                               Há 16 horas\n",
      "link         https://g1.globo.com/mundo/video/thiago-braz-v...\n",
      "img                                                           \n",
      "fonte                                                       G1\n",
      "titulo_sw    medalhista novo assista salto deu bronze thiag...\n",
      "Name: 17, dtype: object \n",
      "\n",
      "\n",
      "titulo       Cachorro 'fã do Jornal Nacional' late e uiva a...\n",
      "subtitulo    Dona conta que sempre dá um agrado a Luke após...\n",
      "hora                                                Há 9 horas\n",
      "link         https://g1.globo.com/mt/mato-grosso/video/cach...\n",
      "img          https://s2.glbimg.com/LCmUcKBLPopg6LeTLs0Os5vF...\n",
      "fonte                                                       G1\n",
      "titulo_sw    cachorro fã jornal nacional late uiva ouvir vi...\n",
      "Name: 29, dtype: object \n",
      "\n",
      "\n"
     ]
    }
   ],
   "source": [
    "recommender(news_df['titulo'][1])"
   ]
  }
 ],
 "metadata": {
  "kernelspec": {
   "display_name": "Python 3",
   "language": "python",
   "name": "python3"
  },
  "language_info": {
   "codemirror_mode": {
    "name": "ipython",
    "version": 3
   },
   "file_extension": ".py",
   "mimetype": "text/x-python",
   "name": "python",
   "nbconvert_exporter": "python",
   "pygments_lexer": "ipython3",
   "version": "3.8.5"
  }
 },
 "nbformat": 4,
 "nbformat_minor": 4
}
